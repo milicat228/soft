{
 "cells": [
  {
   "cell_type": "markdown",
   "metadata": {},
   "source": [
    "# Rešenje zadatka"
   ]
  },
  {
   "cell_type": "code",
   "execution_count": 335,
   "metadata": {},
   "outputs": [],
   "source": [
    "import cv2\n",
    "import numpy as np"
   ]
  },
  {
   "cell_type": "markdown",
   "metadata": {},
   "source": [
    "### Pretprocesiranje slike\n",
    "Slika se prevodi u **greyscale**. \n",
    "\n",
    "Zatim se na nju primenjuje **median blur** sa ciljem smanjenja tačkastog (salt and peper) šuma iz pozadine slike. \n",
    "> The function cv2.medianBlur() takes median of all the pixels under kernel area and central element is replaced with this median value. This is highly effective against salt-and-pepper noise in the images. \n",
    "\n",
    "Primena median blura za rezultat ima da se smanji dimenzija tačkica, te da postanu tamnije.\n",
    "\n",
    "Primenjuje **otvaranje**. Otvaranje u celosti ukloni tačkice sa slike. Primena otvaranja, bez median blura rezultovala je značajnim oštećenjem brojeva.\n",
    "\n",
    "Na kraju, primenjuje se globalni **treshold**."
   ]
  },
  {
   "cell_type": "code",
   "execution_count": 336,
   "metadata": {},
   "outputs": [],
   "source": [
    "kernel = cv2.getStructuringElement(cv2.MORPH_RECT, (2, 2))\n",
    "def processFrame(image):\n",
    "    #prevođenje slike u greyscale\n",
    "    image = cv2.cvtColor(image, cv2.COLOR_RGB2GRAY)     \n",
    "    #blur\n",
    "    image = cv2.medianBlur(image,3)\n",
    "    #otvaranje = erozija + dilacija\n",
    "    image = cv2.erode(image, kernel, iterations = 1)\n",
    "    image = cv2.dilate(image, kernel, iterations = 1)\n",
    "    #treshold  \n",
    "    ret, image = cv2.threshold(image, 50, 255, cv2.THRESH_BINARY)\n",
    "    return image"
   ]
  },
  {
   "cell_type": "markdown",
   "metadata": {},
   "source": [
    "### Obrada konture broja\n",
    "Radi bolje tačnosti, kontura na kojoj je pronađen broj se dodatno obrađuje. Skidaju se crni pikseli okvira.\n",
    "Zatim se veličina slike menja na 28x28 piksela u skladu sa očekivanim ulazom."
   ]
  },
  {
   "cell_type": "code",
   "execution_count": 337,
   "metadata": {},
   "outputs": [],
   "source": [
    "def processRegion(region, tolerance = 0):\n",
    "    mask = region > tolerance\n",
    "    region = region[np.ix_(mask.any(1),mask.any(0))]            \n",
    "    return cv2.resize(region,(28,28), interpolation = cv2.INTER_AREA)"
   ]
  },
  {
   "cell_type": "markdown",
   "metadata": {},
   "source": [
    "### Obrada prvog frejma video snimka"
   ]
  },
  {
   "cell_type": "code",
   "execution_count": 338,
   "metadata": {},
   "outputs": [],
   "source": [
    "vidcap = cv2.VideoCapture('data/videos/video-3.avi')\n",
    "#učitaj prvu sliku\n",
    "success,image = vidcap.read()\n",
    "#učitaj sliku nakon prve\n",
    "success,image = vidcap.read()"
   ]
  },
  {
   "cell_type": "markdown",
   "metadata": {},
   "source": [
    "### Obrada ostalih frejmova video snimka"
   ]
  },
  {
   "cell_type": "code",
   "execution_count": 339,
   "metadata": {},
   "outputs": [],
   "source": [
    "count = 0\n",
    "region_count = 0\n",
    "while count < 10:\n",
    "    #obradi prethodnu sliku    \n",
    "    processed_image = processFrame(image); \n",
    "    processed_image, contours, hierarchy = cv2.findContours(processed_image, cv2.RETR_LIST, cv2.CHAIN_APPROX_SIMPLE)\n",
    "    for contour in contours:\n",
    "        x,y,w,h = cv2.boundingRect(contour)\n",
    "        if h >= 15 and h <= 20:\n",
    "            region = processed_image[y:y+h+1,x:x+w+1] \n",
    "            region = processRegion(region)\n",
    "            cv2.imwrite(\"area_region%d.jpg\" % region_count, region)             \n",
    "            region_count += 1\n",
    "    #učitaj sledeću sliku\n",
    "    success,image = vidcap.read()\n",
    "    count += 1;\n",
    "vidcap.release()"
   ]
  },
  {
   "cell_type": "code",
   "execution_count": null,
   "metadata": {},
   "outputs": [],
   "source": []
  },
  {
   "cell_type": "code",
   "execution_count": null,
   "metadata": {},
   "outputs": [],
   "source": []
  }
 ],
 "metadata": {
  "kernelspec": {
   "display_name": "Python 3",
   "language": "python",
   "name": "python3"
  },
  "language_info": {
   "codemirror_mode": {
    "name": "ipython",
    "version": 3
   },
   "file_extension": ".py",
   "mimetype": "text/x-python",
   "name": "python",
   "nbconvert_exporter": "python",
   "pygments_lexer": "ipython3",
   "version": "3.6.5"
  }
 },
 "nbformat": 4,
 "nbformat_minor": 2
}
